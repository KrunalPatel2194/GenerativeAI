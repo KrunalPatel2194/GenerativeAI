{
 "cells": [
  {
   "cell_type": "code",
   "execution_count": 39,
   "id": "93c3c598-49df-4600-b67c-a12202eb249d",
   "metadata": {},
   "outputs": [
    {
     "name": "stdout",
     "output_type": "stream",
     "text": [
      "Name: openai\n",
      "Version: 0.28.0\n",
      "Summary: Python client library for the OpenAI API\n",
      "Home-page: https://github.com/openai/openai-python\n",
      "Author: OpenAI\n",
      "Author-email: support@openai.com\n",
      "License: \n",
      "Location: p:\\generative_ai\\venv\\lib\\site-packages\n",
      "Requires: aiohttp, requests, tqdm\n",
      "Required-by: \n",
      "Note: you may need to restart the kernel to use updated packages.\n"
     ]
    }
   ],
   "source": [
    "pip show openai\n"
   ]
  },
  {
   "cell_type": "raw",
   "id": "fbf2b8dd-f32a-45a3-953b-89c9d331f999",
   "metadata": {},
   "source": [
    "Dataset and Scenario\n",
    "The chosen dataset contains user reviews, which are ideal for generating both basic and custom queries. It allows the model to demonstrate how custom prompts can enhance performance by eliciting more detailed and insightful responses compared to generic queries."
   ]
  },
  {
   "cell_type": "code",
   "execution_count": 40,
   "id": "13aff361-1838-48c7-b333-f8a22bcab51a",
   "metadata": {},
   "outputs": [
    {
     "data": {
      "text/html": [
       "<div>\n",
       "<style scoped>\n",
       "    .dataframe tbody tr th:only-of-type {\n",
       "        vertical-align: middle;\n",
       "    }\n",
       "\n",
       "    .dataframe tbody tr th {\n",
       "        vertical-align: top;\n",
       "    }\n",
       "\n",
       "    .dataframe thead th {\n",
       "        text-align: right;\n",
       "    }\n",
       "</style>\n",
       "<table border=\"1\" class=\"dataframe\">\n",
       "  <thead>\n",
       "    <tr style=\"text-align: right;\">\n",
       "      <th></th>\n",
       "      <th>text</th>\n",
       "    </tr>\n",
       "  </thead>\n",
       "  <tbody>\n",
       "    <tr>\n",
       "      <th>0</th>\n",
       "      <td>The product arrived on time and works as expec...</td>\n",
       "    </tr>\n",
       "    <tr>\n",
       "      <th>1</th>\n",
       "      <td>I love the customer service here, they really ...</td>\n",
       "    </tr>\n",
       "    <tr>\n",
       "      <th>2</th>\n",
       "      <td>This app is really user-friendly, but it crash...</td>\n",
       "    </tr>\n",
       "    <tr>\n",
       "      <th>3</th>\n",
       "      <td>I found the food to be overpriced and underwhe...</td>\n",
       "    </tr>\n",
       "    <tr>\n",
       "      <th>4</th>\n",
       "      <td>Amazing experience! The staff was incredibly h...</td>\n",
       "    </tr>\n",
       "  </tbody>\n",
       "</table>\n",
       "</div>"
      ],
      "text/plain": [
       "                                                text\n",
       "0  The product arrived on time and works as expec...\n",
       "1  I love the customer service here, they really ...\n",
       "2  This app is really user-friendly, but it crash...\n",
       "3  I found the food to be overpriced and underwhe...\n",
       "4  Amazing experience! The staff was incredibly h..."
      ]
     },
     "execution_count": 40,
     "metadata": {},
     "output_type": "execute_result"
    }
   ],
   "source": [
    "import pandas as pd\n",
    "import openai\n",
    "openai.api_base = \"https://openai.vocareum.com/v1\"\n",
    "openai.api_key = \"voc-605570984126677350407866e29880939962.25846762\"\n",
    "# 1. Data Wrangling: Create a sample dataset with 20 text samples\n",
    "data = {\n",
    "    'text': [\n",
    "        \"The product arrived on time and works as expected.\",\n",
    "        \"I love the customer service here, they really go the extra mile!\",\n",
    "        \"This app is really user-friendly, but it crashes sometimes.\",\n",
    "        \"I found the food to be overpriced and underwhelming.\",\n",
    "        \"Amazing experience! The staff was incredibly helpful.\",\n",
    "        \"The service was slow, and my order was wrong.\",\n",
    "        \"I’m happy with the quality of the product, but the shipping was delayed.\",\n",
    "        \"The website interface is very confusing and hard to navigate.\",\n",
    "        \"Great customer support! I had an issue and they resolved it quickly.\",\n",
    "        \"The product feels cheaply made and doesn’t perform well.\",\n",
    "        \"I would recommend this place to my friends, awesome ambiance.\",\n",
    "        \"Terrible experience. I’ll never go back to this restaurant.\",\n",
    "        \"The software is intuitive and does the job well.\",\n",
    "        \"I wasn’t impressed by the selection of products.\",\n",
    "        \"Friendly staff, but the location is difficult to find.\",\n",
    "        \"The delivery took too long, but the product is excellent.\",\n",
    "        \"The atmosphere of the store was very welcoming.\",\n",
    "        \"I had a wonderful experience and will return again soon.\",\n",
    "        \"The app has great features, but I wish it was faster.\",\n",
    "        \"The prices are too high for the quality offered.\"\n",
    "    ]\n",
    "}\n",
    "\n",
    "# Convert the data to a pandas dataframe\n",
    "df = pd.DataFrame(data)\n",
    "\n",
    "# Display the dataframe to check the data\n",
    "df.head()\n"
   ]
  },
  {
   "cell_type": "code",
   "execution_count": 41,
   "id": "185de62a-f61a-4632-9c15-0ad48c1e538d",
   "metadata": {},
   "outputs": [],
   "source": [
    "# 2. Function to query the OpenAI model\n",
    "def query_openai_model(prompt):\n",
    "    response = openai.ChatCompletion.create(\n",
    "        model=\"gpt-3.5-turbo\",\n",
    "        messages=[\n",
    "            {\"role\": \"system\", \"content\": \"You are a helpful assistant.\"},\n",
    "            {\"role\": \"user\", \"content\": prompt}\n",
    "        ],\n",
    "        max_tokens=150,\n",
    "        temperature=0.7,\n",
    "    )\n",
    "    return response['choices'][0]['message']['content']\n"
   ]
  },
  {
   "cell_type": "code",
   "execution_count": 42,
   "id": "3e46edaa-3787-4ea6-9b8f-fc8e0e77ac42",
   "metadata": {},
   "outputs": [
    {
     "name": "stdout",
     "output_type": "stream",
     "text": [
      "Question 1 (Basic): The review states that the product was delivered on time and is functioning as anticipated.\n",
      "Question 1 (Custom): The reviewer was pleased with the timely delivery of the product and found that it functions as expected.\n",
      "\n",
      "Question 2 (Basic): The review mentioned that the service was slow and the order was incorrect.\n",
      "Question 2 (Custom): I'm sorry to hear about your experience. It sounds like there were issues with the service being slow and your order being incorrect. It might be helpful to reach out to the restaurant or establishment to address these concerns and hopefully resolve the situation.\n"
     ]
    }
   ],
   "source": [
    "# 3. Comparing Basic vs Custom Prompts\n",
    "\n",
    "# Define a basic prompt and a custom prompt for comparison\n",
    "basic_prompt = \"Summarize this review.\"\n",
    "custom_prompt = \"Summarize the following review in a helpful tone:\"\n",
    "\n",
    "# Example question 1: Review at index 0\n",
    "review_1 = df['text'].iloc[0]\n",
    "\n",
    "# Get basic and custom responses for review 1\n",
    "basic_response_1 = query_openai_model(f\"{basic_prompt} {review_1}\")\n",
    "custom_response_1 = query_openai_model(f\"{custom_prompt} {review_1}\")\n",
    "\n",
    "# Example question 2: Review at index 5\n",
    "review_2 = df['text'].iloc[5]\n",
    "\n",
    "# Get basic and custom responses for review 2\n",
    "basic_response_2 = query_openai_model(f\"{basic_prompt} {review_2}\")\n",
    "custom_response_2 = query_openai_model(f\"{custom_prompt} {review_2}\")\n",
    "\n",
    "# Print the results to compare\n",
    "print(\"Question 1 (Basic):\", basic_response_1)\n",
    "print(\"Question 1 (Custom):\", custom_response_1)\n",
    "print(\"\\nQuestion 2 (Basic):\", basic_response_2)\n",
    "print(\"Question 2 (Custom):\", custom_response_2)"
   ]
  },
  {
   "cell_type": "code",
   "execution_count": 43,
   "id": "c11d0527-c25e-42f3-b00a-28494160ff97",
   "metadata": {},
   "outputs": [],
   "source": [
    "# 4. Create a chatbot that interacts with the user using a while loop\n",
    "def start_chatbot():\n",
    "    print(\"Welcome to the OpenAI Chatbot! Type 'exit' to end the chat.\")\n",
    "    while True:\n",
    "        # Ask the user for a question\n",
    "        user_input = input(\"Ask a question: \")\n",
    "        \n",
    "        # Break the loop if the user wants to exit\n",
    "        if user_input.lower() == \"exit\":\n",
    "            print(\"Goodbye!\")\n",
    "            break\n",
    "\n",
    "        # Use OpenAI model to generate a response to the user's question\n",
    "        response = query_openai_model(user_input)\n",
    "        print(response)\n"
   ]
  },
  {
   "cell_type": "code",
   "execution_count": null,
   "id": "4c08c843-6ece-46a8-84a6-ad09ff1b0556",
   "metadata": {},
   "outputs": [
    {
     "name": "stdout",
     "output_type": "stream",
     "text": [
      "Welcome to the OpenAI Chatbot! Type 'exit' to end the chat.\n"
     ]
    },
    {
     "name": "stdin",
     "output_type": "stream",
     "text": [
      "Ask a question:  can you summaerize the review for me?\n"
     ]
    },
    {
     "name": "stdout",
     "output_type": "stream",
     "text": [
      "Of course! Please provide me with the review you would like me to summarize.\n"
     ]
    },
    {
     "name": "stdin",
     "output_type": "stream",
     "text": [
      "Ask a question:  i want you to summerize all the bad reviews\n"
     ]
    },
    {
     "name": "stdout",
     "output_type": "stream",
     "text": [
      "I'm sorry, but I would need more context in order to provide a summary of the bad reviews. Could you please provide more information about the specific reviews you are referring to?\n"
     ]
    },
    {
     "name": "stdin",
     "output_type": "stream",
     "text": [
      "Ask a question:  The service was slow, and my order was wrong.\n"
     ]
    },
    {
     "name": "stdout",
     "output_type": "stream",
     "text": [
      "I'm sorry to hear about your experience. If you would like, I can help you with steps to resolve the issue. Would you like to speak to a manager or customer service representative?\n"
     ]
    },
    {
     "name": "stdin",
     "output_type": "stream",
     "text": [
      "Ask a question:  yes please\n"
     ]
    },
    {
     "name": "stdout",
     "output_type": "stream",
     "text": [
      "How can I assist you today?\n"
     ]
    },
    {
     "name": "stdin",
     "output_type": "stream",
     "text": [
      "Ask a question:  connect me to your manager\n"
     ]
    },
    {
     "name": "stdout",
     "output_type": "stream",
     "text": [
      "I'm here to assist you! Please let me know how I can help you, and I'll do my best to assist you.\n"
     ]
    }
   ],
   "source": [
    "# 5. Start the chatbot\n",
    "start_chatbot()"
   ]
  },
  {
   "cell_type": "code",
   "execution_count": null,
   "id": "e964cc2d-0c54-47ce-a743-29e2947172af",
   "metadata": {},
   "outputs": [],
   "source": []
  }
 ],
 "metadata": {
  "kernelspec": {
   "display_name": "Python 3 (ipykernel)",
   "language": "python",
   "name": "python3"
  },
  "language_info": {
   "codemirror_mode": {
    "name": "ipython",
    "version": 3
   },
   "file_extension": ".py",
   "mimetype": "text/x-python",
   "name": "python",
   "nbconvert_exporter": "python",
   "pygments_lexer": "ipython3",
   "version": "3.10.11"
  }
 },
 "nbformat": 4,
 "nbformat_minor": 5
}
